{
 "cells": [
  {
   "cell_type": "markdown",
   "metadata": {},
   "source": [
    "# Pathogens\n",
    "\n",
    "Here we present the develped assessment hierarchy for a decision aid that enables the exploratory analysis and deliberation of actions on emerging chemical drinking water contaminants with a limited evidence base. This analysis is based on MAVT, and it is implemented around the Decisi-o-rama package.\n"
   ]
  },
  {
   "cell_type": "code",
   "execution_count": 15,
   "metadata": {},
   "outputs": [],
   "source": [
    "# We import the required libraries\n",
    "import glob\n",
    "from os.path import join, sep\n",
    "\n",
    "import numpy as np\n",
    "import pandas as pd\n",
    "import matplotlib.pyplot as plt\n",
    "\n",
    "from decisiorama.pda.preference import Objective, utility, aggregate\n",
    "from decisiorama.utils import random_instance as ri\n",
    "from decisiorama.utils import alternative_builder as ab\n",
    "\n",
    "# Change this to anything that suits\n",
    "plt.style.use('fivethirtyeight')"
   ]
  },
  {
   "cell_type": "markdown",
   "metadata": {},
   "source": [
    "## Problem definition\n",
    "\n",
    "Here we define the different aspects of the MAVT model, and in the end the model is assembled, run, and its results are visualised. The components are defined as:\n",
    "\n",
    "1. [Number of random samples](#Random-Samples)\n",
    "2. [List of objectives in the hierarchy](#Objectives)\n",
    "3. [Direction of attributes](#Direction)\n",
    "4. [Bounds at the attribute level](#Bounds)\n",
    "5. [Defining objectives hierarchy](#Children)\n",
    "6. [Defining the value functions for each objective](#Value-Functions)\n",
    "7. [Defining the weights for each objective](#Weights)\n",
    "8. [Defining the aggregation function to be used in each objective](#Aggregation-Functions)\n",
    "9. [Defining the value of the alternatives in the attributes](#Alternatives)\n",
    "\n",
    "Once the definintions have been provided we build and evaluate the model by:\n",
    "\n",
    "10. [Creating and running the objectives and its hierarchy](#Building)\n",
    "11. [Visualising the results](#Visualisation)"
   ]
  },
  {
   "cell_type": "markdown",
   "metadata": {},
   "source": [
    "<a id=\"Random-Samples\"></a>\n",
    "### Random samples\n",
    "\n",
    "We define the number of random samples for the Monte carlo simulation (`n`)"
   ]
  },
  {
   "cell_type": "code",
   "execution_count": 16,
   "metadata": {},
   "outputs": [],
   "source": [
    "n = 10000"
   ]
  },
  {
   "cell_type": "markdown",
   "metadata": {},
   "source": [
    "<a id=\"Objectives\"></a>\n",
    "### Objectives\n",
    "\n",
    "We list the objectives that are part of the hierarchy. The order of this list is not relevant."
   ]
  },
  {
   "cell_type": "code",
   "execution_count": 17,
   "metadata": {},
   "outputs": [],
   "source": [
    "name= ['Score',\n",
    "       'Presence_surf_water',\n",
    "       'Beh_WWTP',\n",
    "       'Per_surf_water',\n",
    "       'coa_rf',\n",
    "       'ac',\n",
    "       'uv_dis',\n",
    "       'Beh_DWTP', \n",
    "       'Poll_DS', \n",
    "       'Pot_exp_DDW', \n",
    "       'p_death',\n",
    "       'sequelae',\n",
    "       'discomfort',\n",
    "       'Pot_sev_health',\n",
    "       'imp_exposure',\n",
    "       'sec_spread',\n",
    "       ]  "
   ]
  },
  {
   "cell_type": "markdown",
   "metadata": {},
   "source": [
    "<a id=\"Direction\"></a>\n",
    "\n",
    "### Direction\n",
    "Define the side of the value function. If `True`, indicates that the maximum value is achieved when the indicator is maximised. Otherwise, it is assume that the value of the indicator is maximum, when its in natural scale is Minimum."
   ]
  },
  {
   "cell_type": "code",
   "execution_count": 18,
   "metadata": {},
   "outputs": [],
   "source": [
    "ifmax = {'Score': True,\n",
    "         'Presence_surf_water': True,\n",
    "         'Beh_WWTP': False,\n",
    "         'Per_surf_water': True,\n",
    "         'coa_rf': False,\n",
    "         'ac': False,\n",
    "         'uv_dis': False,\n",
    "         'Beh_DWTP': False,\n",
    "         'Poll_DS': True,\n",
    "         'Pot_exp_DDW': True,\n",
    "         'p_death': True,\n",
    "         'sequelae': True,\n",
    "         'discomfort': True,\n",
    "         'Pot_sev_health': True,\n",
    "         'imp_exposure': True,\n",
    "         'sec_spread': True,\n",
    "        }"
   ]
  },
  {
   "cell_type": "markdown",
   "metadata": {},
   "source": [
    "<a id=\"Bounds\"></a>\n",
    "### Bounds\n",
    "\n",
    "The bounds establish what are the limits for the different objectives in the hierarchy. Values over the interval are automatically set to its maximum, while below the minimum will be set to this value."
   ]
  },
  {
   "cell_type": "code",
   "execution_count": 19,
   "metadata": {},
   "outputs": [],
   "source": [
    "bounds = {'Score': [0.0, 1.0],\n",
    "          'Presence_surf_water': [0, 3],\n",
    "          'Beh_WWTP': [0, 19],\n",
    "          'Per_surf_water': [0, 100],\n",
    "          'coa_rf': [0, 1],\n",
    "          'ac': [0, 19],\n",
    "          'uv_dis': [0, 19],\n",
    "          'Beh_DWTP': [0, 19],\n",
    "          'Poll_DS': [0, 365],\n",
    "          'Pot_exp_DDW': [0, 1],\n",
    "          'p_death': [0, 1],\n",
    "          'sequelae': [0, 1],\n",
    "          'discomfort': [0, 1],\n",
    "          'Pot_sev_health': [0, 1],\n",
    "          'imp_exposure': [0, 100],\n",
    "          'sec_spread': [0, 1],\n",
    "         }"
   ]
  },
  {
   "cell_type": "markdown",
   "metadata": {},
   "source": [
    "<a id=\"Children\"></a>\n",
    "### Hierarchical structure\n",
    "\n",
    "Here we define the hierarchy on the objectives by defining the children of each objective. If an objective does not have a children, it is used an empty list (`[]`)."
   ]
  },
  {
   "cell_type": "code",
   "execution_count": 20,
   "metadata": {},
   "outputs": [],
   "source": [
    "children = {'Score': ['Pot_exp_DDW', 'Pot_sev_health', \n",
    "                      'imp_exposure', 'sec_spread'],\n",
    "            'Presence_surf_water': [],\n",
    "            'Beh_WWTP': [],\n",
    "            'Per_surf_water': [],\n",
    "            'coa_rf': [],\n",
    "            'ac': [],\n",
    "            'uv_dis': [],\n",
    "            'Beh_DWTP': ['coa_rf', 'ac', 'uv_dis'],\n",
    "            'Poll_DS': [],\n",
    "            'Pot_exp_DDW': ['Presence_surf_water', 'Beh_WWTP', \n",
    "                            'Per_surf_water', 'Beh_DWTP', 'Poll_DS'],\n",
    "            'p_death': [],\n",
    "            'sequelae': [],\n",
    "            'discomfort': [],\n",
    "            'Pot_sev_health': ['p_death', 'sequelae', 'discomfort'],\n",
    "            'imp_exposure': [],\n",
    "            'sec_spread': []\n",
    "            }"
   ]
  },
  {
   "cell_type": "markdown",
   "metadata": {},
   "source": [
    "<a id=\"Value-Functions\"></a>\n",
    "\n",
    "### Value Functions\n",
    "\n",
    "At this point we define custom value functions that are used in the analysis. Notice that the return of these functions, are functions as well."
   ]
  },
  {
   "cell_type": "code",
   "execution_count": 21,
   "metadata": {},
   "outputs": [],
   "source": [
    "def valuefun_tabular(x, y):\n",
    "    '''value function constructor'''\n",
    "    if np.max(y) > 1.0:\n",
    "        raise ValueError('value in table higher than 1')\n",
    "    \n",
    "    def _t(xx, *args, **kwargs):\n",
    "        xx = xx*np.max(x)\n",
    "        return np.clip(np.interp(xx, x, y), 0, 1)    \n",
    "    return _t"
   ]
  },
  {
   "cell_type": "markdown",
   "metadata": {},
   "source": [
    "Here we assign the value function to each of the objectives. In this context, a linear value function is represented by a `utility.exponential` function with a curvature (`r`) equal to 0. Also, notice that we are assigning functions and not results"
   ]
  },
  {
   "cell_type": "code",
   "execution_count": 22,
   "metadata": {},
   "outputs": [],
   "source": [
    "util_funcs = {'Score': utility.exponential,\n",
    "              'Presence_surf_water': utility.exponential,\n",
    "              'Beh_WWTP': utility.exponential,\n",
    "              'Per_surf_water': utility.exponential,\n",
    "              'coa_rf': utility.exponential,\n",
    "              'ac': utility.exponential,\n",
    "              'uv_dis': utility.exponential,\n",
    "              'Beh_DWTP': utility.exponential,\n",
    "              'Poll_DS': valuefun_tabular(\n",
    "                  x = [0.0, 7.00/365.0, 32.0/365.0, 1.0], \n",
    "                  y = [0.0, 0.33, 0.67, 1.00]),\n",
    "              'Pot_exp_DDW': utility.exponential,\n",
    "              'p_death': utility.exponential,\n",
    "              'sequelae': utility.exponential,\n",
    "              'discomfort': utility.exponential,\n",
    "              'Pot_sev_health': utility.exponential,\n",
    "              'imp_exposure': utility.exponential,\n",
    "              'sec_spread': utility.exponential,\n",
    "              }"
   ]
  },
  {
   "cell_type": "markdown",
   "metadata": {},
   "source": [
    "<a id=\"Weights\"></a>\n",
    "\n",
    "### Weights\n",
    "\n",
    "Here we define the weights for each of the nodes in the hierarchy. Weights are linearly normalised by Decisiorama when processing the results."
   ]
  },
  {
   "cell_type": "code",
   "execution_count": 23,
   "metadata": {},
   "outputs": [],
   "source": [
    "weights = {'Score' : 1.0, \n",
    "           'Presence_surf_water' : 1.0,\n",
    "           'Beh_WWTP' : 1.0,\n",
    "           'Per_surf_water' : 1.0,\n",
    "           'coa_rf' : 1.0,\n",
    "           'ac' : 1.0,\n",
    "           'uv_dis' : 1.0, \n",
    "           'Beh_DWTP' : 1.0,\n",
    "           'Poll_DS' : 1.0,\n",
    "           'Pot_exp_DDW' : 1.0,\n",
    "           'p_death' : 1.0,\n",
    "           'sec_spread' : 1.0,\n",
    "           'sequelae' : 1.0,\n",
    "           'discomfort' : 1.0, \n",
    "           'Pot_sev_health' : 1.0,\n",
    "           'imp_exposure' : 1.0,\n",
    "           'sec_spread' : 1.0,\n",
    "           }"
   ]
  },
  {
   "cell_type": "markdown",
   "metadata": {},
   "source": [
    "<a id=\"Aggregation-Functions\"></a>\n",
    "\n",
    "### Aggregation Functions\n",
    "\n",
    "In this point what type of aggregation we are selecting for each of the nodes. If the node is an attribute node, the selection of the aggregation function is irrelevant."
   ]
  },
  {
   "cell_type": "code",
   "execution_count": 24,
   "metadata": {},
   "outputs": [],
   "source": [
    "aggregation_functions = {'Score' : aggregate.additive,\n",
    "                         'Presence_surf_water' : aggregate.additive,\n",
    "                         'Beh_WWTP' : aggregate.additive,\n",
    "                         'Per_surf_water' : aggregate.additive,\n",
    "                         'coa_rf' : aggregate.additive, \n",
    "                         'ac' : aggregate.additive,\n",
    "                         'uv_dis' : aggregate.additive,\n",
    "                         'Beh_DWTP' : aggregate.additive, \n",
    "                         'Poll_DS' : aggregate.additive, \n",
    "                         'Pot_exp_DDW' : aggregate.additive, \n",
    "                         'p_death' : aggregate.additive, \n",
    "                         'sequelae' : aggregate.additive,\n",
    "                         'discomfort' : aggregate.additive, \n",
    "                         'Pot_sev_health' : aggregate.additive,\n",
    "                         'imp_exposure' : aggregate.additive,\n",
    "                         'sec_spread' : aggregate.additive,\n",
    "                          }    "
   ]
  },
  {
   "cell_type": "markdown",
   "metadata": {},
   "source": [
    "<a id=\"Alternatives\"></a>\n",
    "\n",
    "### Alternatives\n",
    "\n",
    "Here we read the alternatives from plain files (`*.attr` files) used to parametrise the model. In this particular case, we are reading the alternatives located in the `alternatives/pathogens` folder."
   ]
  },
  {
   "cell_type": "code",
   "execution_count": 25,
   "metadata": {},
   "outputs": [],
   "source": [
    "# Read and parse alternatives from files\n",
    "fnames = glob.glob(join('alternatives','pathogens','*.attr'))\n",
    "alternatives = {name.split(sep)[-1][:-5] : ab.reader(name) for name in fnames}"
   ]
  },
  {
   "cell_type": "markdown",
   "metadata": {},
   "source": [
    "<a id=\"Building\"></a>\n",
    "\n",
    "### Building objectives hierarchy\n",
    "\n",
    "With the previously defined elements, we proceed to build the objectives hierarchy, and obtain the results for each of the elements. The final objective is to determine the `'Score'` For each of the individual alternatives."
   ]
  },
  {
   "cell_type": "code",
   "execution_count": 26,
   "metadata": {},
   "outputs": [],
   "source": [
    "# build the hierarchy tree\n",
    "\n",
    "_d_alt = list(alternatives.keys())[0]\n",
    "\n",
    "vals = {}\n",
    "for alt in alternatives:\n",
    "    objs = {}\n",
    "    for name_i in name:\n",
    "        if name_i in alternatives[_d_alt].keys():\n",
    "            _alt_value = alternatives[alt][name_i]  # Taken from the alternatives file\n",
    "        else:\n",
    "            _alt_value = None  # calculated as the aggregation of alternatives\n",
    "    \n",
    "        \n",
    "        # Build the objectives\n",
    "        objs[name_i] = Objective(name = name_i, \n",
    "                                 w = weights[name_i],\n",
    "                                 alternatives = [_alt_value,],\n",
    "                                 obj_min = bounds[name_i][0], \n",
    "                                 obj_max = bounds[name_i][1], \n",
    "                                 n = n,\n",
    "                                 utility_func = util_funcs[name_i], \n",
    "                                 utility_pars = [0.0, ],\n",
    "                                 aggregation_func = aggregation_functions[name_i],\n",
    "                                 aggregation_pars = ri.Uniform(0.5, 0.5).get,\n",
    "                                 maximise = ifmax[name_i]\n",
    "                                 )\n",
    "    \n",
    "    # Build the hierarchy (assign children to parent objectives)\n",
    "    for name_i in objs:\n",
    "        if children[name_i] != []:\n",
    "            [objs[name_i].add_children(objs[child_i]) for child_i in children[name_i]]        \n",
    "    vals[alt] = objs['Score'].get_value([1.0,])\n",
    "\n",
    "res = pd.DataFrame(vals)"
   ]
  },
  {
   "cell_type": "markdown",
   "metadata": {},
   "source": [
    "<a id=\"Visualisation\"></a>\n",
    "\n",
    "### Visualisation\n",
    "\n",
    "Finally, we proceed to the visualisation of the results. To this end, we use a boxplot to inspect the results of the analysis."
   ]
  },
  {
   "cell_type": "code",
   "execution_count": 27,
   "metadata": {},
   "outputs": [
    {
     "data": {
      "image/png": "[encoded data removed]",
      "text/plain": [
       "<Figure size 432x288 with 1 Axes>"
      ]
     },
     "metadata": {},
     "output_type": "display_data"
    }
   ],
   "source": [
    "plt.figure()\n",
    "res.boxplot()\n",
    "plt.ylim([0, 1])\n",
    "plt.ylabel('Value')\n",
    "plt.xlabel('Alternative')\n",
    "plt.show()"
   ]
  }
 ],
 "metadata": {
  "kernelspec": {
   "display_name": "Python 3",
   "language": "python",
   "name": "python3"
  },
  "language_info": {
   "codemirror_mode": {
    "name": "ipython",
    "version": 3
   },
   "file_extension": ".py",
   "mimetype": "text/x-python",
   "name": "python",
   "nbconvert_exporter": "python",
   "pygments_lexer": "ipython3",
   "version": "3.7.4"
  }
 },
 "nbformat": 4,
 "nbformat_minor": 4
}
