{
 "cells": [
  {
   "cell_type": "markdown",
   "metadata": {},
   "source": [
    "# Chemicals\n",
    "\n",
    "Here we present the develped assessment hierarchy for a decision aid that enables the exploratory analysis and deliberation of actions on emerging chemical drinking water contaminants with a limited evidence base. This analysis is based on MAVT, and it is implemented around the Decisi-o-rama package.\n"
   ]
  },
  {
   "cell_type": "code",
   "execution_count": 52,
   "metadata": {},
   "outputs": [],
   "source": [
    "# We import the required libraries\n",
    "from os.path import join, sep\n",
    "import glob\n",
    "\n",
    "import numpy as np\n",
    "import pandas as pd\n",
    "import matplotlib.pyplot as plt\n",
    "\n",
    "from decisiorama.pda.preference import Objective, utility, aggregate\n",
    "from decisiorama.utils import random_instance as ri\n",
    "from decisiorama.utils import alternative_builder as ab\n",
    "\n",
    "# Change this to control the theme in the image display\n",
    "plt.style.use('fivethirtyeight')"
   ]
  },
  {
   "cell_type": "markdown",
   "metadata": {},
   "source": [
    "## Problem definition\n",
    "\n",
    "Here we define the different aspects of the MAVT model, and in the end the model is assembled, run, and its results are visualised. The components are defined as:\n",
    "\n",
    "1. [Number of random samples](#Random-Samples)\n",
    "2. [List of objectives in the hierarchy](#Objectives)\n",
    "3. [Direction of attributes](#Direction)\n",
    "4. [Bounds at the attribute level](#Bounds)\n",
    "5. [Defining objectives hierarchy](#Children)\n",
    "6. [Defining the value functions for each objective](#Value-Functions)\n",
    "7. [Defining the weights for each objective](#Weights)\n",
    "8. [Defining the aggregation function to be used in each objective](#Aggregation-Functions)\n",
    "9. [Defining the value of the alternatives in the attributes](#Alternatives)\n",
    "\n",
    "Once the definintions have been provided we build and evaluate the model by:\n",
    "\n",
    "10. [Creating and running the objectives and its hierarchy](#Building)\n",
    "11. [Visualising the results](#Visualisation)"
   ]
  },
  {
   "cell_type": "markdown",
   "metadata": {},
   "source": [
    "<a id=\"Random-Samples\"></a>\n",
    "### Random samples\n",
    "\n",
    "We define the number of random samples for the Monte carlo simulation (`n`)"
   ]
  },
  {
   "cell_type": "code",
   "execution_count": 53,
   "metadata": {},
   "outputs": [],
   "source": [
    "n = 10000"
   ]
  },
  {
   "cell_type": "markdown",
   "metadata": {},
   "source": [
    "<a id=\"Objectives\"></a>\n",
    "### Objectives\n",
    "\n",
    "We list the objectives that are part of the hierarchy. The order of this list is not relevant."
   ]
  },
  {
   "cell_type": "code",
   "execution_count": 54,
   "metadata": {},
   "outputs": [],
   "source": [
    "name= ['Score',\n",
    "       'Presence_surf_water', \n",
    "       'Beh_WWTP', \n",
    "       'Per_surf_water', \n",
    "       'Beh_DWTP', \n",
    "       'Poll_DS', \n",
    "       'Pot_exp_DDW',\n",
    "       'Gene_mut',  \n",
    "       'Chrom_mut',\n",
    "       'Mutagenic',\n",
    "       'Reprotoxic',\n",
    "       'Carcinogenic',\n",
    "       'CMR', \n",
    "       'CMR_pot',\n",
    "       'Endoc_disr',\n",
    "       'Pot_sev_health',\n",
    "       'imp_exposure', \n",
    "       'sec_spread', \n",
    "       'Log_Koc', \n",
    "       'Log_Kaw',\n",
    "      ] "
   ]
  },
  {
   "cell_type": "markdown",
   "metadata": {},
   "source": [
    "<a id=\"Direction\"></a>\n",
    "\n",
    "### Direction\n",
    "Define the side of the value function. If `True`, indicates that the maximum value is achieved when the indicator is maximised. Otherwise, it is assume that the value of the indicator is maximum, when its in natural scale is Minimum."
   ]
  },
  {
   "cell_type": "code",
   "execution_count": 55,
   "metadata": {},
   "outputs": [],
   "source": [
    "ifmax = {'Score': True,\n",
    "         'Presence_surf_water': True,\n",
    "         'Beh_WWTP': False,\n",
    "         'Per_surf_water': True,\n",
    "         'Beh_DWTP': True,\n",
    "         'Poll_DS': True,\n",
    "         'Pot_exp_DDW': True,\n",
    "         'Gene_mut': True,\n",
    "         'Chrom_mut': True,\n",
    "         'Mutagenic': True,\n",
    "         'Reprotoxic': True,\n",
    "         'Carcinogenic': True,\n",
    "         'CMR': True,\n",
    "         'CMR_pot': True,\n",
    "         'Endoc_disr': True,\n",
    "         'Pot_sev_health': True,\n",
    "         'imp_exposure': True,\n",
    "         'sec_spread': False,\n",
    "         'Log_Koc': True,\n",
    "         'Log_Kaw': True,\n",
    "        }"
   ]
  },
  {
   "cell_type": "markdown",
   "metadata": {},
   "source": [
    "<a id=\"Bounds\"></a>\n",
    "### Bounds\n",
    "\n",
    "The bounds establish what are the limits for the different objectives in the hierarchy. Values over the interval are automatically set to its maximum, while below the minimum will be set to this value."
   ]
  },
  {
   "cell_type": "code",
   "execution_count": 56,
   "metadata": {},
   "outputs": [],
   "source": [
    "bounds = {'Score': [0.0, 1.0],\n",
    "          'Presence_surf_water': [0.0, 3.0],\n",
    "          'Beh_WWTP': [0.0, 100.0],\n",
    "          'Per_surf_water': [0.0, 200000.0],\n",
    "          'Beh_DWTP': [0.0, 1.0],\n",
    "          'Poll_DS': [0.0, 1.0],\n",
    "          'Pot_exp_DDW': [0.0, 1.0],\n",
    "          'Gene_mut': [0.0, 1.0],\n",
    "          'Chrom_mut': [0.0, 1.0],\n",
    "          'Mutagenic': [0.0, 1.0],\n",
    "          'Reprotoxic': [0.0, 1.0],\n",
    "          'Carcinogenic': [0.0, 3.0],\n",
    "          'CMR': [0.0, 1.0],\n",
    "          'CMR_pot': [0.0, 1.0],\n",
    "          'Endoc_disr': [1.0, 5.0],\n",
    "          'Pot_sev_health': [0.0, 1.0],\n",
    "          'imp_exposure': [0.0, 100.0],\n",
    "          'sec_spread': [0.0, 1.0],\n",
    "          'Log_Koc': [-15.0, 45.0],\n",
    "          'Log_Kaw': [-50.0, 50.0],\n",
    "          }"
   ]
  },
  {
   "cell_type": "markdown",
   "metadata": {},
   "source": [
    "<a id=\"Children\"></a>\n",
    "### Hierarchical structure\n",
    "\n",
    "Here we define the hierarchy on the objectives by defining the children of each objective. If an objective does not have a children, it is used an empty list (`[]`)."
   ]
  },
  {
   "cell_type": "code",
   "execution_count": 57,
   "metadata": {},
   "outputs": [],
   "source": [
    "children = {'Score': ['Pot_exp_DDW', 'Pot_sev_health', \n",
    "                      'imp_exposure', 'sec_spread'],\n",
    "            'Presence_surf_water': [],\n",
    "            'Beh_WWTP': [],\n",
    "            'Per_surf_water': [],\n",
    "            'Beh_DWTP': ['Log_Koc', 'Log_Kaw'],\n",
    "            'Poll_DS': [],\n",
    "            'Pot_exp_DDW': ['Presence_surf_water', 'Beh_WWTP', \n",
    "                            'Per_surf_water', 'Beh_DWTP', 'Poll_DS'],\n",
    "            'Gene_mut': [],\n",
    "            'Chrom_mut': [],\n",
    "            'Mutagenic': ['Gene_mut', 'Chrom_mut'],\n",
    "            'Reprotoxic': [],\n",
    "            'Carcinogenic': [],\n",
    "            'CMR': [],\n",
    "            'CMR_pot': ['Mutagenic', 'Reprotoxic', 'Carcinogenic', 'CMR'],\n",
    "            'Endoc_disr': [],\n",
    "            'Pot_sev_health': ['CMR_pot', 'Endoc_disr'],\n",
    "            'imp_exposure': [],\n",
    "            'sec_spread': [],\n",
    "            'Log_Koc': [],\n",
    "            'Log_Kaw': []\n",
    "           }"
   ]
  },
  {
   "cell_type": "markdown",
   "metadata": {},
   "source": [
    "<a id=\"Value-Functions\"></a>\n",
    "\n",
    "### Value Functions\n",
    "\n",
    "At this point we define custom value functions that are used in the analysis. Notice that the return of these functions, are functions as well."
   ]
  },
  {
   "cell_type": "code",
   "execution_count": 58,
   "metadata": {},
   "outputs": [],
   "source": [
    "def valuefun_half_life():\n",
    "    def _half_life(x, *args, **kwargs):\n",
    "        x = x*200000.0 \n",
    "        _exp = np.log10(60.0/x)*np.log10(2)/np.log10(60.0/40.0)\n",
    "        _util = 1.0/(1.0 + 10**_exp)\n",
    "        return _util\n",
    "    return _half_life\n",
    "\n",
    "def valuefun_logkoc(xmin, xmax):\n",
    "    def _logkoc(x, *args, **kwargs):\n",
    "        x = x * (xmax - xmin) + xmin\n",
    "        _exp = (x - 2.0)*np.log10(2)\n",
    "        _util = 1.0/(1.0 + 10**_exp)\n",
    "        return _util\n",
    "    return _logkoc\n",
    "\n",
    "def valuefun_logkaw(xmin, xmax):\n",
    "    def _logkaw(x, *args, **kwargs):\n",
    "        x = x * (xmax - xmin) + xmin\n",
    "        _exp = (2.7 + x)*np.log10(2)/1.3\n",
    "        _util = 1.0/(1.0 + 10**_exp)\n",
    "        return _util\n",
    "    return _logkaw"
   ]
  },
  {
   "cell_type": "markdown",
   "metadata": {},
   "source": [
    "Here we assign the value function to each of the objectives. In this context, a linear value function is represented by a `utility.exponential` function with a curvature (`r`) equal to 0. Also, notice that we are assigning functions and not results"
   ]
  },
  {
   "cell_type": "code",
   "execution_count": 59,
   "metadata": {},
   "outputs": [],
   "source": [
    "util_funcs = {'Score': utility.exponential,\n",
    "              'Presence_surf_water': utility.exponential,\n",
    "              'Beh_WWTP': utility.exponential,\n",
    "              'Per_surf_water': valuefun_half_life(),\n",
    "              'Beh_DWTP': utility.exponential,\n",
    "              'Poll_DS': utility.exponential,\n",
    "              'Pot_exp_DDW': utility.exponential,\n",
    "              'Gene_mut': utility.exponential,\n",
    "              'Chrom_mut': utility.exponential,\n",
    "              'Mutagenic': utility.exponential,\n",
    "              'Reprotoxic': utility.exponential,\n",
    "              'Carcinogenic': utility.exponential,\n",
    "              'CMR': utility.exponential,\n",
    "              'CMR_pot': utility.exponential,\n",
    "              'Endoc_disr': utility.exponential,\n",
    "              'Pot_sev_health': utility.exponential,\n",
    "              'imp_exposure': utility.exponential,\n",
    "              'sec_spread': utility.exponential,\n",
    "              'Log_Koc': valuefun_logkoc(-15, 45),\n",
    "              'Log_Kaw': valuefun_logkaw(-50, 50),\n",
    "             }"
   ]
  },
  {
   "cell_type": "markdown",
   "metadata": {},
   "source": [
    "<a id=\"Weights\"></a>\n",
    "\n",
    "### Weights\n",
    "\n",
    "Here we define the weights for each of the nodes in the hierarchy. Weights are linearly normalised by Decisiorama when processing the results."
   ]
  },
  {
   "cell_type": "code",
   "execution_count": 60,
   "metadata": {},
   "outputs": [],
   "source": [
    "weights = {'Score' : 1.0,\n",
    "           'Presence_surf_water' : 1.0,\n",
    "           'Beh_WWTP' : 1.0,\n",
    "           'Per_surf_water' : 1.0, \n",
    "           'Beh_DWTP' : 1.0, \n",
    "           'Poll_DS' : 1.0,\n",
    "           'Pot_exp_DDW' : 1.0,\n",
    "           'Gene_mut' : 1.0,\n",
    "           'Chrom_mut' : 1.0,\n",
    "           'Mutagenic' : 1.0,\n",
    "           'Reprotoxic' : 1.0,\n",
    "           'Carcinogenic' : 1.0,\n",
    "           'CMR' : 1.0,\n",
    "           'CMR_pot' : 1.0,\n",
    "           'Endoc_disr' : 1.0,\n",
    "           'Pot_sev_health' : 1.0,\n",
    "           'imp_exposure' : 1.0,\n",
    "           'sec_spread' : 1.0,\n",
    "           'Log_Koc' : 1.0,\n",
    "           'Log_Kaw' : 1.0,\n",
    "          }"
   ]
  },
  {
   "cell_type": "markdown",
   "metadata": {},
   "source": [
    "<a id=\"Aggregation-Functions\"></a>\n",
    "\n",
    "### Aggregation Functions\n",
    "\n",
    "In this point what type of aggregation we are selecting for each of the nodes. If the node is an attribute node, the selection of the aggregation function is irrelevant."
   ]
  },
  {
   "cell_type": "code",
   "execution_count": 61,
   "metadata": {},
   "outputs": [],
   "source": [
    "aggregation_functions = {'Score' : aggregate.additive,\n",
    "                         'Presence_surf_water' : aggregate.additive ,\n",
    "                         'Beh_WWTP': aggregate.additive,\n",
    "                         'Per_surf_water': aggregate.additive,\n",
    "                         'Beh_DWTP' : aggregate.additive,\n",
    "                         'Poll_DS' : aggregate.additive,\n",
    "                         'Pot_exp_DDW' : aggregate.additive,\n",
    "                         'Gene_mut': aggregate.maximum, \n",
    "                         'Chrom_mut': aggregate.maximum,\n",
    "                         'Mutagenic': aggregate.maximum,\n",
    "                         'Reprotoxic': aggregate.additive, \n",
    "                         'Carcinogenic': aggregate.additive,\n",
    "                         'CMR': aggregate.additive,\n",
    "                         'CMR_pot': aggregate.maximum,\n",
    "                         'Endoc_disr': aggregate.maximum,\n",
    "                         'Pot_sev_health': aggregate.maximum,\n",
    "                         'imp_exposure': aggregate.additive,\n",
    "                         'sec_spread': aggregate.additive,\n",
    "                         'Log_Koc': aggregate.additive,\n",
    "                         'Log_Kaw': aggregate.additive,\n",
    "                         }"
   ]
  },
  {
   "cell_type": "markdown",
   "metadata": {},
   "source": [
    "<a id=\"Alternatives\"></a>\n",
    "\n",
    "### Alternatives\n",
    "\n",
    "Here we read the alternatives from plain files (`*.attr` files) used to parametrise the model. In this particular case, we are reading the alternatives located in the `alternatives/chemicals` folder."
   ]
  },
  {
   "cell_type": "code",
   "execution_count": 62,
   "metadata": {},
   "outputs": [],
   "source": [
    "# Read and parse alternatives from files\n",
    "_fnames = glob.glob(join('alternatives', 'chemicals', '*.attr'))\n",
    "alternatives = {fname.split(sep)[-1][:-5] : ab.reader(fname) for fname in _fnames}"
   ]
  },
  {
   "cell_type": "markdown",
   "metadata": {},
   "source": [
    "<a id=\"Building\"></a>\n",
    "\n",
    "### Building objectives hierarchy\n",
    "\n",
    "With the previously defined elements, we proceed to build the objectives hierarchy, and obtain the results for each of the elements. The final objective is to determine the `'Score'` For each of the individual alternatives."
   ]
  },
  {
   "cell_type": "code",
   "execution_count": 63,
   "metadata": {},
   "outputs": [],
   "source": [
    "# build the hierarchy tree\n",
    "\n",
    "_d_alt = list(alternatives.keys())[0]\n",
    "\n",
    "vals = {}\n",
    "for alt in alternatives:\n",
    "    objs = {}\n",
    "    for name_i in name:\n",
    "        if name_i in alternatives[_d_alt].keys():\n",
    "            _alt_value = alternatives[alt][name_i]  # Taken from the alternatives file\n",
    "        else:\n",
    "            _alt_value = None  # calculated as the aggregation of alternatives\n",
    "    \n",
    "        # Build the objectives\n",
    "        objs[name_i] = Objective(name = name_i, \n",
    "                                 w = weights[name_i],\n",
    "                                 alternatives = [_alt_value,],\n",
    "                                 obj_min = bounds[name_i][0], \n",
    "                                 obj_max = bounds[name_i][1], \n",
    "                                 n = n,\n",
    "                                 utility_func = util_funcs[name_i], \n",
    "                                 utility_pars = [0.0, ],\n",
    "                                 aggregation_func = aggregation_functions[name_i],\n",
    "                                 aggregation_pars = ri.Uniform(0.5, 0.5).get,\n",
    "                                 maximise = ifmax[name_i]\n",
    "                                 )\n",
    "    \n",
    "    # Build the hierarchy (assign children to parent objectives)\n",
    "    for name_i in objs:\n",
    "        if children[name_i] != []:\n",
    "            [objs[name_i].add_children(objs[child_i]) for child_i in children[name_i]]        \n",
    "    vals[alt] = objs['Score'].get_value([1.0,])\n",
    "\n",
    "res = pd.DataFrame(vals)"
   ]
  },
  {
   "cell_type": "markdown",
   "metadata": {},
   "source": [
    "<a id=\"Visualisation\"></a>\n",
    "\n",
    "### Visualisation\n",
    "\n",
    "Finally, we proceed to the visualisation of the results. To this end, we use a boxplot to inspect the results of the analysis."
   ]
  },
  {
   "cell_type": "code",
   "execution_count": 64,
   "metadata": {},
   "outputs": [
    {
     "data": {
      "image/png": "[encoded data removed]",
      "text/plain": [
       "<Figure size 432x288 with 1 Axes>"
      ]
     },
     "metadata": {},
     "output_type": "display_data"
    }
   ],
   "source": [
    "plt.figure()\n",
    "res.boxplot()\n",
    "plt.ylim([0, 1])\n",
    "plt.ylabel('Value')\n",
    "plt.xlabel('Alternative')\n",
    "plt.show()"
   ]
  }
 ],
 "metadata": {
  "kernelspec": {
   "display_name": "Python 3",
   "language": "python",
   "name": "python3"
  },
  "language_info": {
   "codemirror_mode": {
    "name": "ipython",
    "version": 3
   },
   "file_extension": ".py",
   "mimetype": "text/x-python",
   "name": "python",
   "nbconvert_exporter": "python",
   "pygments_lexer": "ipython3",
   "version": "3.7.6"
  }
 },
 "nbformat": 4,
 "nbformat_minor": 4
}
